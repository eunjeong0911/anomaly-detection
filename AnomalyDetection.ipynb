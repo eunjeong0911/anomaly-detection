{
  "nbformat": 4,
  "nbformat_minor": 0,
  "metadata": {
    "colab": {
      "provenance": [],
      "machine_shape": "hm",
      "gpuType": "A100"
    },
    "kernelspec": {
      "name": "python3",
      "display_name": "Python 3"
    },
    "language_info": {
      "name": "python"
    },
    "accelerator": "GPU"
  },
  "cells": [
    {
      "cell_type": "code",
      "execution_count": 1,
      "metadata": {
        "id": "erHirvCTX88Y"
      },
      "outputs": [],
      "source": [
        "import os\n",
        "import argparse\n",
        "import numpy as np\n",
        "from tqdm import tqdm\n",
        "from sklearn.metrics import roc_auc_score, roc_curve, precision_recall_curve\n",
        "import matplotlib.pyplot as plt\n",
        "from PIL import Image\n",
        "import torchvision.transforms as T\n",
        "import torch\n",
        "import torch.nn.functional as F\n",
        "from torch.utils.data import DataLoader\n",
        "from torchvision.models import mobilenet_v2\n",
        "import time\n",
        "import torchvision.transforms.functional as F\n",
        "import shutil\n",
        "from torchvision.models import wide_resnet50_2"
      ]
    },
    {
      "cell_type": "markdown",
      "source": [
        "### **BTAD Dataset**\n",
        "#### **1. 데이터셋 구성**\n",
        "- **클래스**: `'01'`, `'02'`, `'03'` (3개의 제품 유형)\n",
        "- **폴더 구조**:\n",
        "  - `train/`: 학습 데이터\n",
        "  - `test/`: 테스트 데이터\n",
        "  - `ground_truth/`: 결함 마스크 데이터 (결함 위치를 표시)\n",
        "\n",
        "---\n",
        "\n",
        "#### **2. 사용 목적**\n",
        "- **정상(normal)** 및 **비정상(anomalous)** 이미지를 기반으로 이상 탐지 모델을 학습.\n",
        "- 데이터 정리 및 변환을 통해 PyTorch Dataset 클래스와 모델 학습에 적합한 형식으로 준비.\n",
        "\n",
        "---\n",
        "\n",
        "#### **3. 주요 기능**\n",
        "- **데이터 정리**: 학습(`train`)과 테스트(`test`) 폴더 내 `ok`, `ko` 하위 폴더를 단순화.\n",
        "- **결함 라벨링**: 결함 마스크를 기준으로 정상(0) 또는 결함(1)으로 분류.\n",
        "- **데이터 증강**\n",
        "\n",
        "---\n",
        "\n",
        "#### **4. 데이터 준비 과정**\n",
        "1. `btad_folder` 경로에 데이터셋을 저장.\n",
        "2. `CreateBtadDataset` 함수를 통해 데이터 정리 및 구성.\n",
        "3. 설정 파일(`config`)이 생성되면 데이터셋 준비 완료.\n"
      ],
      "metadata": {
        "id": "ulp1AXB95UCw"
      }
    },
    {
      "cell_type": "code",
      "source": [
        "btad_folder = '/content/drive/MyDrive/BTech_Dataset_transformed'\n",
        "btad_config_file = os.path.join(btad_folder, 'config')\n",
        "BTAD_CLASS_NAMES = ['01', '02', '03']\n",
        "ANOMALY_THRESHOLD = 0   # 결함을 판별하는 임계값 설정"
      ],
      "metadata": {
        "id": "JKXwGHCy38Sb"
      },
      "execution_count": 2,
      "outputs": []
    },
    {
      "cell_type": "code",
      "source": [
        "def CreateBtadDataset():\n",
        "    \"\"\"\n",
        "    BTAD 데이터셋을 준비하는 함수.\n",
        "\n",
        "    1. 데이터셋 폴더가 존재하는지 확인\n",
        "    2. 데이터셋 폴더의 구조를 정리하여 학습(train), 테스트(test), 및 결함 마스크(ground_truth) 폴더를 준비\n",
        "    3. 작업이 완료되면 설정 파일(config)을 생성하여 데이터셋 준비가 완료되었음을 기록\n",
        "    \"\"\"\n",
        "    try:\n",
        "        for Class in BTAD_CLASS_NAMES:\n",
        "            train_folder = os.path.join(btad_folder, Class, 'train')\n",
        "            test_folder = os.path.join(btad_folder, Class, 'test')\n",
        "\n",
        "            # Train 폴더 정리\n",
        "            train_ok_folder = os.path.join(train_folder, 'ok')\n",
        "            if os.path.exists(train_ok_folder):\n",
        "                all_train_imgs = sorted(os.listdir(train_ok_folder))\n",
        "                for img in all_train_imgs:\n",
        "                    shutil.move(os.path.join(train_ok_folder, img), train_folder)\n",
        "                shutil.rmtree(train_ok_folder)\n",
        "\n",
        "            # Test 폴더 정리\n",
        "            test_ok_folder = os.path.join(test_folder, 'ok')\n",
        "            test_ko_folder = os.path.join(test_folder, 'ko')\n",
        "            if os.path.exists(test_ko_folder):\n",
        "                for img in sorted(os.listdir(test_ko_folder)):\n",
        "                    shutil.move(os.path.join(test_ko_folder, img), test_folder)\n",
        "                shutil.rmtree(test_ko_folder)\n",
        "            if os.path.exists(test_ok_folder):\n",
        "                for img in sorted(os.listdir(test_ok_folder)):\n",
        "                    shutil.move(os.path.join(test_ok_folder, img), test_folder)\n",
        "                shutil.rmtree(test_ok_folder)\n",
        "\n",
        "            # Ground truth 정리\n",
        "            masks_folder = os.path.join(btad_folder, Class, 'ground_truth')\n",
        "            mask_ko_folder = os.path.join(masks_folder, 'ko')\n",
        "            if os.path.exists(mask_ko_folder):\n",
        "                for img in sorted(os.listdir(mask_ko_folder)):\n",
        "                    shutil.move(os.path.join(mask_ko_folder, img), masks_folder)\n",
        "                shutil.rmtree(mask_ko_folder)\n",
        "\n",
        "        # Config 파일 생성\n",
        "        with open(btad_config_file, \"a\") as f:\n",
        "            f.write(\"Dataset is ready to use.\")\n",
        "        print(\"Dataset preparation completed.\")\n",
        "    except Exception as e:\n",
        "        print(f\"Error during dataset preparation: {e}\")\n",
        "        shutil.rmtree(btad_folder)\n",
        "        sys.exit(-1)\n",
        "\n",
        "def prepareBtad():\n",
        "    \"\"\"\n",
        "    데이터셋 준비 상태를 확인\n",
        "    필요시 `CreateBtadDataset()`를 호출하여 데이터셋을 준비\n",
        "\n",
        "    \"\"\"\n",
        "    if os.path.isdir(btad_folder):\n",
        "        if os.path.exists(btad_config_file):\n",
        "            print(\"Dataset is already prepared.\")\n",
        "        else:\n",
        "            print(\"Preparing the dataset...\")\n",
        "            CreateBtadDataset()\n",
        "    else:\n",
        "        print(\"Dataset folder not found.\")\n",
        "        sys.exit(-1)\n",
        "\n",
        "prepareBtad()\n"
      ],
      "metadata": {
        "colab": {
          "base_uri": "https://localhost:8080/"
        },
        "id": "TLe4v6l6YjQu",
        "outputId": "5f084829-1361-492e-f02b-ed1b01f6dfc5"
      },
      "execution_count": 3,
      "outputs": [
        {
          "output_type": "stream",
          "name": "stdout",
          "text": [
            "Dataset is already prepared.\n"
          ]
        }
      ]
    },
    {
      "cell_type": "code",
      "source": [
        "class BtadDataset(torch.utils.data.Dataset):\n",
        "    \"\"\"\n",
        "    BTAD 데이터셋 처리를 위한 PyTorch Dataset 클래스.\n",
        "\n",
        "    Args:\n",
        "        class_name (str): BTAD 데이터셋 클래스 이름 (예: '01', '02', '03').\n",
        "        resize (int): 이미지를 리사이즈할 크기.\n",
        "        cropsize (int): 리사이즈 후 중심에서 크롭할 크기.\n",
        "        is_train (bool): 학습 데이터(True) 또는 테스트 데이터(False)를 로드할지 여부.\n",
        "    \"\"\"\n",
        "    def __init__(self, class_name, resize=256, cropsize=224, is_train=True):\n",
        "        self.is_train = is_train\n",
        "        self.class_name = class_name\n",
        "        self.resize = resize\n",
        "        self.cropsize = cropsize\n",
        "\n",
        "        # 이미지 변환\n",
        "        self.transform_image = T.Compose([\n",
        "            T.Resize(resize, Image.LANCZOS), # 이미지 resize\n",
        "            T.CenterCrop(cropsize),          # 중심 기준으로 이미지 crop\n",
        "            T.ToTensor(),                    # 텐서로 변환\n",
        "            T.Normalize(mean=[0.485, 0.456, 0.406], std=[0.229, 0.224, 0.225])\n",
        "        ])\n",
        "        # 마스크 변환\n",
        "        self.transform_mask = T.Compose([\n",
        "            T.Resize(resize, Image.NEAREST),\n",
        "            T.CenterCrop(cropsize),\n",
        "            T.ToTensor()\n",
        "        ])\n",
        "\n",
        "        self.main_dir = os.path.join(btad_folder, self.class_name, 'train' if self.is_train else 'test')\n",
        "        self.all_imgs = sorted([f for f in os.listdir(self.main_dir) if os.path.isfile(os.path.join(self.main_dir, f))])\n",
        "        self.mask_dir = os.path.join(btad_folder, self.class_name, 'ground_truth')\n",
        "        if not self.is_train:\n",
        "            self.all_mask = sorted(os.listdir(self.mask_dir))\n",
        "\n",
        "    def __len__(self):\n",
        "        return len(self.all_imgs)\n",
        "\n",
        "    def __getitem__(self, idx):\n",
        "        \"\"\"\n",
        "        데이터셋에서 특정 인덱스의 데이터를 로드하여 변환 및 증강을 적용하고 반환.\n",
        "\n",
        "        Args:\n",
        "            idx (int): 로드할 데이터의 인덱스.\n",
        "\n",
        "        Returns:\n",
        "            image (Tensor): 변환된 이미지 텐서.\n",
        "            defective (int): 결함 여부 (0: 정상, 1: 결함).\n",
        "            mask (Tensor): 변환된 결함 마스크 텐서.\n",
        "        \"\"\"\n",
        "        img_path = os.path.join(self.main_dir, self.all_imgs[idx])\n",
        "        image = Image.open(img_path).convert('RGB')\n",
        "        mask_path = os.path.join(self.mask_dir, self.all_imgs[idx]) if os.path.isfile(os.path.join(self.mask_dir, self.all_imgs[idx])) else None\n",
        "        mask = Image.open(mask_path).convert('L') if mask_path else Image.fromarray(np.zeros((self.cropsize, self.cropsize), dtype=np.uint8))\n",
        "\n",
        "        # train 증강 적용\n",
        "        if self.is_train:\n",
        "            if torch.rand(1) < 0.5:   # 50% 확률로 좌우 반전\n",
        "                image = F.hflip(image)\n",
        "                mask = F.hflip(mask)\n",
        "            if torch.rand(1) < 0.5:   # 50% 확률로 상하 반전\n",
        "                image = F.vflip(image)\n",
        "                mask = F.vflip(mask)\n",
        "            angle = torch.randint(-15, 15, (1,)).item()   # -15도 ~ 15도 범위에서 랜덤 회전\n",
        "            image = F.rotate(image, angle)\n",
        "            mask = F.rotate(mask, angle)\n",
        "\n",
        "        # 일반 변환 적용\n",
        "        image = self.transform_image(image)\n",
        "        mask = self.transform_mask(mask)\n",
        "\n",
        "        # 결함 여부 계산\n",
        "        defective = 1 if torch.sum(mask) > ANOMALY_THRESHOLD else 0   # 마스크의 픽셀 합이 임계값을 넘으면 결함으로 판단\n",
        "\n",
        "        return image, defective, mask\n"
      ],
      "metadata": {
        "id": "hJBT6Df2Yb15"
      },
      "execution_count": 4,
      "outputs": []
    },
    {
      "cell_type": "markdown",
      "source": [
        "### **MVTec Dataset**\n",
        "#### **1. 데이터셋 구성**\n",
        "- **클래스**: 14개의 제품 유형\n",
        "  - `bottle`, `cable`, `capsule`, `carpet`, `hazelnut`, `leather`,\n",
        "    `metal_nut`, `pill`, `screw`, `tile`, `toothbrush`, `transistor`, `wood`, `zipper`\n",
        "- **폴더 구조**:\n",
        "  - `train/`: 학습 데이터 (정상 데이터만 포함)\n",
        "  - `test/`: 테스트 데이터 (정상 및 결함 데이터 포함)\n",
        "  - `ground_truth/`: 테스트 데이터의 결함 위치를 표시하는 마스크 데이터\n",
        "\n",
        "\n",
        "\n",
        "#### **2. 사용 목적**\n",
        "- **정상(normal)** 및 **결함(anomalous)** 데이터를 기반으로 이상 탐지 모델을 학습 및 평가.\n",
        "- 학습 데이터는 정상 데이터만 포함, 테스트 데이터는 정상 및 결함 데이터를 포함.\n",
        "\n",
        "\n",
        "\n",
        "#### **3. 주요 기능**\n",
        "- **데이터 로드**:\n",
        "  - `train/`과 `test/` 폴더에서 이미지 파일과 마스크 파일을 읽고 처리.\n",
        "- **결함 라벨링**:\n",
        "  - 정상 이미지는 라벨 0, 결함 이미지는 라벨 1로 지정.\n",
        "- **데이터 증강**:\n",
        "  - 필요에 따라 이미지 크기 변환, 크롭 등을 적용해 모델 성능 향상.\n",
        "\n",
        "#### **4. 데이터 처리 과정**\n",
        "1. 데이터셋의 `train/`, `test/`, `ground_truth/` 폴더에서 데이터를 로드.\n",
        "2. 데이터 변환(크기 조정, 정규화)을 통해 모델 학습에 적합한 텐서 형식으로 변환.\n",
        "3. 정상 이미지는 라벨과 함께 빈 마스크를 반환, 결함 이미지는 마스크와 함께 반환.\n",
        "\n",
        "\n"
      ],
      "metadata": {
        "id": "qkT-hnZRvkkW"
      }
    },
    {
      "cell_type": "code",
      "source": [
        "CLASS_NAMES = [\n",
        "    'bottle', 'cable', 'capsule', 'carpet', 'hazelnut', 'leather',\n",
        "    'metal_nut', 'pill', 'screw', 'tile', 'toothbrush', 'transistor', 'wood', 'zipper'\n",
        "]\n",
        "\n",
        "class MVTecDataset(torch.utils.data.Dataset):\n",
        "    def __init__(self, root_path, class_name, is_train=True, resize=256, cropsize=224):\n",
        "        \"\"\"\n",
        "        MVTecDataset 클래스 생성자.\n",
        "\n",
        "        Args:\n",
        "            root_path (str): MVTec 데이터셋의 최상위 디렉토리 경로.\n",
        "            class_name (str): 처리할 클래스 이름 (예: 'bottle', 'cable').\n",
        "            is_train (bool): 학습용 데이터(True)인지 테스트용 데이터(False)인지 지정. 기본값은 True.\n",
        "            resize (int): 이미지를 리사이즈할 크기. 기본값은 256.\n",
        "            cropsize (int): 이미지를 리사이즈한 후 중심에서 크롭할 크기. 기본값은 224.\n",
        "        \"\"\"\n",
        "        assert class_name in CLASS_NAMES, f\"Invalid class name. Choose from {CLASS_NAMES}\"\n",
        "        self.root_path = root_path\n",
        "        self.class_name = class_name\n",
        "        self.is_train = is_train\n",
        "        self.resize = resize\n",
        "        self.cropsize = cropsize\n",
        "        self.mvtec_folder_path = os.path.join(root_path)\n",
        "\n",
        "        self.x, self.y, self.mask = self.load_dataset_folder()\n",
        "\n",
        "        # 이미지 변환\n",
        "        self.transform_x = T.Compose([\n",
        "            T.Resize(resize, Image.LANCZOS),\n",
        "            T.CenterCrop(cropsize),\n",
        "            T.ToTensor(),\n",
        "            T.Normalize(mean=[0.485, 0.456, 0.406], std=[0.229, 0.224, 0.225])\n",
        "        ])\n",
        "        # 마스크 변환\n",
        "        self.transform_mask = T.Compose([\n",
        "            T.Resize(resize, Image.NEAREST),\n",
        "            T.CenterCrop(cropsize),\n",
        "            T.ToTensor()\n",
        "        ])\n",
        "\n",
        "    def __getitem__(self, idx):\n",
        "        \"\"\"\n",
        "        데이터셋에서 특정 인덱스에 해당하는 데이터를 반환.\n",
        "\n",
        "        Args:\n",
        "            idx (int): 데이터셋 인덱스.\n",
        "\n",
        "        Returns:\n",
        "            x (Tensor): 변환된 이미지 텐서.\n",
        "            y (int): 라벨 (0: 정상, 1: 결함).\n",
        "            mask (Tensor): 변환된 결함 마스크 텐서.\n",
        "        \"\"\"\n",
        "        x_path, y, mask_path = self.x[idx], self.y[idx], self.mask[idx]\n",
        "\n",
        "        # 이미지 변환\n",
        "        x = Image.open(x_path).convert('RGB')\n",
        "        x = self.transform_x(x)\n",
        "\n",
        "        # 마스크 변환\n",
        "        if mask_path is None:  # 정상 이미지\n",
        "            mask = torch.zeros([1, self.cropsize, self.cropsize])\n",
        "        else:  # 결함 이미지\n",
        "            mask = Image.open(mask_path).convert('L')\n",
        "            mask = self.transform_mask(mask)\n",
        "\n",
        "        return x, y, mask\n",
        "\n",
        "    def __len__(self):\n",
        "        return len(self.x)\n",
        "\n",
        "    def load_dataset_folder(self):\n",
        "        phase = 'train' if self.is_train else 'test'\n",
        "        x, y, mask = [], [], []\n",
        "        img_dir = os.path.join(self.mvtec_folder_path, self.class_name, phase)\n",
        "        gt_dir = os.path.join(self.mvtec_folder_path, self.class_name, 'ground_truth')\n",
        "\n",
        "        for img_type in sorted(os.listdir(img_dir)):\n",
        "            img_type_dir = os.path.join(img_dir, img_type)\n",
        "            if not os.path.isdir(img_type_dir):\n",
        "                continue\n",
        "\n",
        "            img_fpath_list = sorted([os.path.join(img_type_dir, fname) for fname in os.listdir(img_type_dir) if fname.endswith('.png')])\n",
        "            x.extend(img_fpath_list)\n",
        "\n",
        "            if img_type == 'good':    # 정상 이미지\n",
        "                y.extend([0] * len(img_fpath_list))   # 정상 - 라벨 0\n",
        "                mask.extend([None] * len(img_fpath_list))\n",
        "            else:\n",
        "                y.extend([1] * len(img_fpath_list))   # 결함 - 라벨 1\n",
        "                gt_type_dir = os.path.join(gt_dir, img_type)\n",
        "                mask.extend([os.path.join(gt_type_dir, os.path.splitext(fname)[0] + '_mask.png') for fname in os.listdir(img_type_dir)])\n",
        "\n",
        "        assert len(x) == len(y)\n",
        "        return x, y, mask\n"
      ],
      "metadata": {
        "id": "WHqE6Ywivz_5"
      },
      "execution_count": 5,
      "outputs": []
    },
    {
      "cell_type": "markdown",
      "source": [
        "### **Anomaly Detection Pipeline using BTAD and MVTec Datasets**\n",
        "\n",
        "\n",
        "*   주어진 데이터셋(`BTAD` 또는 `MVTec`)에 대해 학습 데이터와 테스트 데이터를 로드하고, 특징 추출 및 거리 기반 이상 점수 계산.\n",
        "\n",
        "*   ROC AUC 평가를 수행.\n",
        "\n",
        "\n",
        "---\n",
        "\n",
        "#### **로직 요약**\n",
        "1. **모델 로드**:\n",
        "   - `MobileNetV2`와 `WideResNet50` 모델을 사전 학습된 가중치로 로드하고 평가 모드로 설정.\n",
        "   - 후크(hook)를 등록하여 특정 레이어의 출력을 저장.\n",
        "\n",
        "2. **데이터 로드**:\n",
        "   - `BTAD` 또는 `MVTec` 데이터셋의 학습 데이터와 테스트 데이터를 로드.\n",
        "   - 데이터셋은 PyTorch `DataLoader`를 통해 배치 단위로 처리.\n",
        "\n",
        "3. **특징 추출 및 학습**:\n",
        "   - 학습 데이터에서 특징 벡터를 추출하고 저장.\n",
        "\n",
        "4. **테스트 및 거리 계산**:\n",
        "   - 테스트 데이터의 특징 벡터와 학습 데이터의 특징 벡터 간의 유클리디안 거리를 계산.\n",
        "   - `calc_dist_matrix` 함수를 사용하여 거리 행렬을 생성.\n",
        "\n",
        "5. **이상 점수 계산**:\n",
        "   - 거리 행렬에서 `Top-K` 이웃 거리의 평균을 이상 점수로 사용.\n",
        "\n",
        "6. **ROC AUC 계산 및 시각화**:\n",
        "   - 테스트 데이터의 이상 점수와 실제 라벨을 기반으로 ROC AUC를 계산.\n",
        "   - ROC 곡선을 시각화하고 저장.\n"
      ],
      "metadata": {
        "id": "Sj1-as7D_L-E"
      }
    },
    {
      "cell_type": "code",
      "source": [
        "# 거리 계산 함수\n",
        "def calc_dist_matrix(x, y):\n",
        "    \"\"\"\n",
        "    두 텐서 간의 유클리디안 거리 계산.\n",
        "\n",
        "        x (Tensor): 첫 번째 텐서 (NxD).\n",
        "        y (Tensor): 두 번째 텐서 (MxD).\n",
        "\n",
        "    Returns:\n",
        "        Tensor: 유클리디안 거리 행렬 (NxM).\n",
        "    \"\"\"\n",
        "    n, m, d = x.size(0), y.size(0), x.size(1)\n",
        "    x = x.unsqueeze(1).expand(n, m, d)\n",
        "    y = y.unsqueeze(0).expand(n, m, d)\n",
        "    return torch.sqrt(torch.pow(x - y, 2).sum(2))"
      ],
      "metadata": {
        "id": "V3B4pOtv9WiD"
      },
      "execution_count": 6,
      "outputs": []
    },
    {
      "cell_type": "code",
      "source": [
        "def main(dataset=\"BTAD\", root_path=None, save_path=\"./results\", batch_size=32, top_k=5):\n",
        "    device = 'cuda' if torch.cuda.is_available() else 'cpu'\n",
        "\n",
        "    # 모델 로드 (MobileNetV2, WideResNet50)\n",
        "    mobilenet = mobilenet_v2(pretrained=True)\n",
        "    wideresnet = wide_resnet50_2(pretrained=True)\n",
        "    mobilenet.to(device).eval()   # 모델을 평가 모드로 전환\n",
        "    wideresnet.to(device).eval()\n",
        "\n",
        "    mobilenet_outputs, wideresnet_outputs = [], []    # 모델 출력 저장을 위한 리스트\n",
        "\n",
        "    # MobileNet의 특징 추출 hook 정의\n",
        "    def mobilenet_hook(module, input, output):\n",
        "        mobilenet_outputs.append(output)\n",
        "\n",
        "    # WideResNet의 특징 추출 hook 정의\n",
        "    def wideresnet_hook(module, input, output):\n",
        "        wideresnet_outputs.append(output)\n",
        "\n",
        "    # hook 등록 (특정 레이어의 출력을 저장)\n",
        "    mobilenet.features[-1].register_forward_hook(mobilenet_hook)\n",
        "    wideresnet.avgpool.register_forward_hook(wideresnet_hook)\n",
        "\n",
        "    os.makedirs(save_path, exist_ok=True)\n",
        "    fig, ax = plt.subplots(figsize=(10, 6))\n",
        "    total_roc_auc = []     # 클래스별 AUC 점수를 저장\n",
        "\n",
        "    # 데이터셋 설정\n",
        "    if dataset == \"BTAD\":\n",
        "        class_names = ['01', '02', '03']\n",
        "    elif dataset == \"MVTec\":\n",
        "        class_names = [\n",
        "            'bottle', 'cable', 'capsule', 'carpet', 'hazelnut', 'leather',\n",
        "            'metal_nut', 'pill', 'screw', 'tile', 'toothbrush', 'transistor', 'wood', 'zipper'\n",
        "        ]\n",
        "    else:\n",
        "        raise ValueError(\"'BTAD' 또는 'MVTec' 중 하나를 선택하세요.\")\n",
        "\n",
        "    for class_name in class_names:\n",
        "        # 데이터셋 로드\n",
        "        if dataset == \"BTAD\":\n",
        "            train_dataset = BtadDataset(class_name=class_name, is_train=True)\n",
        "            test_dataset = BtadDataset(class_name=class_name, is_train=False)\n",
        "        elif dataset == \"MVTec\":\n",
        "            train_dataset = MVTecDataset(root_path=root_path, class_name=class_name, is_train=True)\n",
        "            test_dataset = MVTecDataset(root_path=root_path, class_name=class_name, is_train=False)\n",
        "\n",
        "        train_dataloader = DataLoader(train_dataset, batch_size=batch_size, pin_memory=True)\n",
        "        test_dataloader = DataLoader(test_dataset, batch_size=batch_size, pin_memory=True)\n",
        "\n",
        "        # Train 특징 추출\n",
        "        mobilenet_train_features, wideresnet_train_features = [], []\n",
        "        for x, _, _ in tqdm(train_dataloader, desc=f\"Extracting features: Train {class_name}\"):\n",
        "            with torch.no_grad():\n",
        "                mobilenet(x.to(device))   # MobileNet에서 특징 추출\n",
        "                wideresnet(x.to(device))  # WideResNet에서 특징 추출\n",
        "\n",
        "            # 추출된 특징 저장\n",
        "            mobilenet_train_features.append(mobilenet_outputs[0].cpu())\n",
        "            wideresnet_train_features.append(wideresnet_outputs[0].cpu())\n",
        "\n",
        "            mobilenet_outputs.clear()\n",
        "            wideresnet_outputs.clear()\n",
        "\n",
        "        # Train 특징 텐서로 병합\n",
        "        mobilenet_train_features = torch.cat(mobilenet_train_features)\n",
        "        wideresnet_train_features = torch.cat(wideresnet_train_features)\n",
        "\n",
        "        # Test 처리\n",
        "        gt_list, scores_list = [], []\n",
        "        for x, y, _ in tqdm(test_dataloader, desc=f\"Extracting features: Test {class_name}\"):\n",
        "            with torch.no_grad():\n",
        "                mobilenet(x.to(device))\n",
        "                wideresnet(x.to(device))\n",
        "\n",
        "            mobilenet_test_features = mobilenet_outputs[0].cpu()\n",
        "            wideresnet_test_features = wideresnet_outputs[0].cpu()\n",
        "\n",
        "            mobilenet_outputs.clear()\n",
        "            wideresnet_outputs.clear()\n",
        "\n",
        "            # 거리 계산 (Train 특징과 Test 특징 간의 유클리디안 거리)\n",
        "            mobilenet_dist_matrix = calc_dist_matrix(torch.flatten(mobilenet_test_features, 1),\n",
        "                                                     torch.flatten(mobilenet_train_features, 1))\n",
        "            wideresnet_dist_matrix = calc_dist_matrix(torch.flatten(wideresnet_test_features, 1),\n",
        "                                                      torch.flatten(wideresnet_train_features, 1))\n",
        "\n",
        "            # Top-K 평균 거리 계산\n",
        "            mobilenet_scores = torch.mean(torch.topk(mobilenet_dist_matrix, k=top_k, dim=1, largest=False)[0], 1).numpy()\n",
        "            wideresnet_scores = torch.mean(torch.topk(wideresnet_dist_matrix, k=top_k, dim=1, largest=False)[0], 1).numpy()\n",
        "\n",
        "            # 최종 점수\n",
        "            scores = (mobilenet_scores + wideresnet_scores) / 2\n",
        "\n",
        "            gt_list.extend(y.cpu().numpy())\n",
        "            scores_list.extend(scores)\n",
        "\n",
        "        # ROC AUC\n",
        "        roc_auc = roc_auc_score(gt_list, scores_list)\n",
        "        total_roc_auc.append(roc_auc)\n",
        "        print(f\"{class_name} ROCAUC: {roc_auc:.3f}\")\n",
        "\n",
        "        # ROC 곡선\n",
        "        fpr, tpr, _ = roc_curve(gt_list, scores_list)\n",
        "        ax.plot(fpr, tpr, label=f'{class_name} (ROCAUC: {roc_auc:.3f})')\n",
        "\n",
        "    # 평균 ROC AUC\n",
        "    avg_roc_auc = np.mean(total_roc_auc)\n",
        "    ax.set_title(f\"Average ROCAUC: {avg_roc_auc:.3f}\")\n",
        "    ax.legend(loc=\"lower right\")\n",
        "    fig.savefig(os.path.join(save_path, f\"{dataset}_roc_curve.png\"), dpi=100)\n",
        "\n",
        "    print(f\"Average ROCAUC across all classes: {avg_roc_auc:.3f}\")\n"
      ],
      "metadata": {
        "id": "0TR3EUN_mxr2"
      },
      "execution_count": 7,
      "outputs": []
    },
    {
      "cell_type": "code",
      "source": [
        "if __name__ == '__main__':\n",
        "    main(dataset=\"BTAD\", save_path=\"./btad_results\")\n",
        "    main(dataset=\"MVTec\", root_path=\"/content/drive/MyDrive/mvtec\", save_path=\"./mvtec_results\")"
      ],
      "metadata": {
        "colab": {
          "base_uri": "https://localhost:8080/",
          "height": 1000
        },
        "id": "SH9yjLmk86ei",
        "outputId": "fd78e701-cd98-48f8-d308-383608fd4e6f"
      },
      "execution_count": 8,
      "outputs": [
        {
          "output_type": "stream",
          "name": "stderr",
          "text": [
            "/usr/local/lib/python3.10/dist-packages/torchvision/models/_utils.py:208: UserWarning: The parameter 'pretrained' is deprecated since 0.13 and may be removed in the future, please use 'weights' instead.\n",
            "  warnings.warn(\n",
            "/usr/local/lib/python3.10/dist-packages/torchvision/models/_utils.py:223: UserWarning: Arguments other than a weight enum or `None` for 'weights' are deprecated since 0.13 and may be removed in the future. The current behavior is equivalent to passing `weights=MobileNet_V2_Weights.IMAGENET1K_V1`. You can also use `weights=MobileNet_V2_Weights.DEFAULT` to get the most up-to-date weights.\n",
            "  warnings.warn(msg)\n",
            "Downloading: \"https://download.pytorch.org/models/mobilenet_v2-b0353104.pth\" to /root/.cache/torch/hub/checkpoints/mobilenet_v2-b0353104.pth\n",
            "100%|██████████| 13.6M/13.6M [00:00<00:00, 98.1MB/s]\n",
            "/usr/local/lib/python3.10/dist-packages/torchvision/models/_utils.py:223: UserWarning: Arguments other than a weight enum or `None` for 'weights' are deprecated since 0.13 and may be removed in the future. The current behavior is equivalent to passing `weights=Wide_ResNet50_2_Weights.IMAGENET1K_V1`. You can also use `weights=Wide_ResNet50_2_Weights.DEFAULT` to get the most up-to-date weights.\n",
            "  warnings.warn(msg)\n",
            "Downloading: \"https://download.pytorch.org/models/wide_resnet50_2-95faca4d.pth\" to /root/.cache/torch/hub/checkpoints/wide_resnet50_2-95faca4d.pth\n",
            "100%|██████████| 132M/132M [00:00<00:00, 201MB/s]\n",
            "Extracting features: Train 01: 100%|██████████| 13/13 [00:57<00:00,  4.45s/it]\n",
            "Extracting features: Test 01: 100%|██████████| 3/3 [00:37<00:00, 12.60s/it]\n"
          ]
        },
        {
          "output_type": "stream",
          "name": "stdout",
          "text": [
            "01 ROCAUC: 0.966\n"
          ]
        },
        {
          "output_type": "stream",
          "name": "stderr",
          "text": [
            "Extracting features: Train 02: 100%|██████████| 13/13 [02:03<00:00,  9.49s/it]\n",
            "Extracting features: Test 02: 100%|██████████| 8/8 [01:16<00:00,  9.59s/it]\n"
          ]
        },
        {
          "output_type": "stream",
          "name": "stdout",
          "text": [
            "02 ROCAUC: 0.762\n"
          ]
        },
        {
          "output_type": "stream",
          "name": "stderr",
          "text": [
            "Extracting features: Train 03: 100%|██████████| 32/32 [04:52<00:00,  9.14s/it]\n",
            "Extracting features: Test 03: 100%|██████████| 14/14 [02:52<00:00, 12.32s/it]\n",
            "/usr/local/lib/python3.10/dist-packages/torchvision/models/_utils.py:208: UserWarning: The parameter 'pretrained' is deprecated since 0.13 and may be removed in the future, please use 'weights' instead.\n",
            "  warnings.warn(\n",
            "/usr/local/lib/python3.10/dist-packages/torchvision/models/_utils.py:223: UserWarning: Arguments other than a weight enum or `None` for 'weights' are deprecated since 0.13 and may be removed in the future. The current behavior is equivalent to passing `weights=MobileNet_V2_Weights.IMAGENET1K_V1`. You can also use `weights=MobileNet_V2_Weights.DEFAULT` to get the most up-to-date weights.\n",
            "  warnings.warn(msg)\n"
          ]
        },
        {
          "output_type": "stream",
          "name": "stdout",
          "text": [
            "03 ROCAUC: 0.997\n",
            "Average ROCAUC across all classes: 0.908\n"
          ]
        },
        {
          "output_type": "stream",
          "name": "stderr",
          "text": [
            "/usr/local/lib/python3.10/dist-packages/torchvision/models/_utils.py:223: UserWarning: Arguments other than a weight enum or `None` for 'weights' are deprecated since 0.13 and may be removed in the future. The current behavior is equivalent to passing `weights=Wide_ResNet50_2_Weights.IMAGENET1K_V1`. You can also use `weights=Wide_ResNet50_2_Weights.DEFAULT` to get the most up-to-date weights.\n",
            "  warnings.warn(msg)\n",
            "Extracting features: Train bottle: 100%|██████████| 7/7 [00:14<00:00,  2.11s/it]\n",
            "Extracting features: Test bottle: 100%|██████████| 3/3 [00:39<00:00, 13.11s/it]\n"
          ]
        },
        {
          "output_type": "stream",
          "name": "stdout",
          "text": [
            "bottle ROCAUC: 0.987\n"
          ]
        },
        {
          "output_type": "stream",
          "name": "stderr",
          "text": [
            "Extracting features: Train cable: 100%|██████████| 7/7 [00:19<00:00,  2.75s/it]\n",
            "Extracting features: Test cable: 100%|██████████| 5/5 [01:15<00:00, 15.14s/it]\n"
          ]
        },
        {
          "output_type": "stream",
          "name": "stdout",
          "text": [
            "cable ROCAUC: 0.954\n"
          ]
        },
        {
          "output_type": "stream",
          "name": "stderr",
          "text": [
            "Extracting features: Train capsule: 100%|██████████| 7/7 [00:18<00:00,  2.60s/it]\n",
            "Extracting features: Test capsule: 100%|██████████| 5/5 [01:11<00:00, 14.22s/it]\n"
          ]
        },
        {
          "output_type": "stream",
          "name": "stdout",
          "text": [
            "capsule ROCAUC: 0.904\n"
          ]
        },
        {
          "output_type": "stream",
          "name": "stderr",
          "text": [
            "Extracting features: Train carpet: 100%|██████████| 9/9 [00:22<00:00,  2.47s/it]\n",
            "Extracting features: Test carpet: 100%|██████████| 4/4 [01:06<00:00, 16.51s/it]\n"
          ]
        },
        {
          "output_type": "stream",
          "name": "stdout",
          "text": [
            "carpet ROCAUC: 0.815\n"
          ]
        },
        {
          "output_type": "stream",
          "name": "stderr",
          "text": [
            "Extracting features: Train hazelnut: 100%|██████████| 13/13 [00:30<00:00,  2.38s/it]\n",
            "Extracting features: Test hazelnut: 100%|██████████| 4/4 [00:56<00:00, 14.10s/it]\n"
          ]
        },
        {
          "output_type": "stream",
          "name": "stdout",
          "text": [
            "hazelnut ROCAUC: 0.987\n"
          ]
        },
        {
          "output_type": "stream",
          "name": "stderr",
          "text": [
            "Extracting features: Train leather: 100%|██████████| 8/8 [00:18<00:00,  2.36s/it]\n",
            "Extracting features: Test leather: 100%|██████████| 4/4 [01:05<00:00, 16.34s/it]\n"
          ]
        },
        {
          "output_type": "stream",
          "name": "stdout",
          "text": [
            "leather ROCAUC: 0.957\n"
          ]
        },
        {
          "output_type": "stream",
          "name": "stderr",
          "text": [
            "Extracting features: Train metal_nut: 100%|██████████| 7/7 [00:10<00:00,  1.56s/it]\n",
            "Extracting features: Test metal_nut: 100%|██████████| 4/4 [00:55<00:00, 13.97s/it]\n"
          ]
        },
        {
          "output_type": "stream",
          "name": "stdout",
          "text": [
            "metal_nut ROCAUC: 0.860\n"
          ]
        },
        {
          "output_type": "stream",
          "name": "stderr",
          "text": [
            "Extracting features: Train pill: 100%|██████████| 9/9 [00:15<00:00,  1.74s/it]\n",
            "Extracting features: Test pill: 100%|██████████| 6/6 [01:25<00:00, 14.17s/it]\n"
          ]
        },
        {
          "output_type": "stream",
          "name": "stdout",
          "text": [
            "pill ROCAUC: 0.770\n"
          ]
        },
        {
          "output_type": "stream",
          "name": "stderr",
          "text": [
            "Extracting features: Train screw: 100%|██████████| 10/10 [00:15<00:00,  1.53s/it]\n",
            "Extracting features: Test screw: 100%|██████████| 5/5 [01:24<00:00, 16.89s/it]\n"
          ]
        },
        {
          "output_type": "stream",
          "name": "stdout",
          "text": [
            "screw ROCAUC: 0.766\n"
          ]
        },
        {
          "output_type": "stream",
          "name": "stderr",
          "text": [
            "Extracting features: Train tile: 100%|██████████| 8/8 [00:16<00:00,  2.04s/it]\n",
            "Extracting features: Test tile: 100%|██████████| 4/4 [01:00<00:00, 15.19s/it]\n"
          ]
        },
        {
          "output_type": "stream",
          "name": "stdout",
          "text": [
            "tile ROCAUC: 0.966\n"
          ]
        },
        {
          "output_type": "stream",
          "name": "stderr",
          "text": [
            "Extracting features: Train toothbrush: 100%|██████████| 2/2 [00:18<00:00,  9.47s/it]\n",
            "Extracting features: Test toothbrush: 100%|██████████| 2/2 [00:22<00:00, 11.29s/it]\n"
          ]
        },
        {
          "output_type": "stream",
          "name": "stdout",
          "text": [
            "toothbrush ROCAUC: 0.942\n"
          ]
        },
        {
          "output_type": "stream",
          "name": "stderr",
          "text": [
            "Extracting features: Train transistor: 100%|██████████| 7/7 [00:16<00:00,  2.40s/it]\n",
            "Extracting features: Test transistor: 100%|██████████| 4/4 [00:46<00:00, 11.66s/it]\n"
          ]
        },
        {
          "output_type": "stream",
          "name": "stdout",
          "text": [
            "transistor ROCAUC: 0.976\n"
          ]
        },
        {
          "output_type": "stream",
          "name": "stderr",
          "text": [
            "Extracting features: Train wood: 100%|██████████| 8/8 [00:21<00:00,  2.72s/it]\n",
            "Extracting features: Test wood: 100%|██████████| 3/3 [00:47<00:00, 15.92s/it]\n"
          ]
        },
        {
          "output_type": "stream",
          "name": "stdout",
          "text": [
            "wood ROCAUC: 0.958\n"
          ]
        },
        {
          "output_type": "stream",
          "name": "stderr",
          "text": [
            "Extracting features: Train zipper: 100%|██████████| 8/8 [00:11<00:00,  1.42s/it]\n",
            "Extracting features: Test zipper: 100%|██████████| 5/5 [01:17<00:00, 15.48s/it]\n"
          ]
        },
        {
          "output_type": "stream",
          "name": "stdout",
          "text": [
            "zipper ROCAUC: 0.974\n",
            "Average ROCAUC across all classes: 0.915\n"
          ]
        },
        {
          "output_type": "display_data",
          "data": {
            "text/plain": [
              "<Figure size 1000x600 with 1 Axes>"
            ],
            "image/png": "[encoded data removed]"
          },
          "metadata": {}
        },
        {
          "output_type": "display_data",
          "data": {
            "text/plain": [
              "<Figure size 1000x600 with 1 Axes>"
            ],
            "image/png": "[encoded data removed]"
          },
          "metadata": {}
        }
      ]
    }
  ]
}